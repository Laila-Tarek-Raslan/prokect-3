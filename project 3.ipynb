{
 "cells": [
  {
   "cell_type": "code",
   "execution_count": 5,
   "metadata": {},
   "outputs": [
    {
     "name": "stdout",
     "output_type": "stream",
     "text": [
      "Item not found.\n",
      "Order for omar:\n",
      "Total: $0.00\n"
     ]
    }
   ],
   "source": [
    "class MenuItem:\n",
    "    def __init__(self, name, price):\n",
    "        self.name = name\n",
    "        self.price = price\n",
    "\n",
    "    def __str__(self):\n",
    "        return f\"{self.name} - ${self.price:.2f}\"\n",
    "\n",
    "class Order:\n",
    "    def __init__(self):\n",
    "        self.items = []\n",
    "\n",
    "    def add_item(self, item):\n",
    "        self.items.append(item)\n",
    "\n",
    "    def get_total_price(self):\n",
    "        total = 0\n",
    "        for item in self.items:\n",
    "            total += item.price  \n",
    "\n",
    "        return total\n",
    "\n",
    "class Customer:\n",
    "    def __init__(self, name):\n",
    "        self.name = name\n",
    "        self.order = Order()\n",
    "\n",
    "    def place_order(self):\n",
    "        while True:\n",
    "            item_name = input(\"Enter item name (or 'done' to finish): \")\n",
    "            if item_name.lower() == 'done':\n",
    "                break\n",
    "            item = menu.get(item_name, None)\n",
    "            if item:\n",
    "                self.order.add_item(item)\n",
    "            else:\n",
    "                print(\"Item not found.\")\n",
    "\n",
    "    def get_bill(self):\n",
    "        print(f\"Order for {self.name}:\")\n",
    "        for item in self.order.items:\n",
    "            print(item)\n",
    "        print(f\"Total: ${self.order.get_total_price():.2f}\")\n",
    "menu = {\n",
    "    \"burger\": MenuItem(\"Burger\", 120),\n",
    "    \"fries\": MenuItem(\"Fries\", 25),\n",
    "    \"soda\": MenuItem(\"Soda\", 20),  \n",
    "    \"chicken\": MenuItem(\"Chicken\", 120),\n",
    "    \"water\" : MenuItem(\"Water\",5.5)\n",
    "    }\n",
    "customer = Customer(input(\"what is your name\"))\n",
    "customer.place_order()\n",
    "\n",
    "customer.get_bill()"
   ]
  }
 ],
 "metadata": {
  "kernelspec": {
   "display_name": "Python 3",
   "language": "python",
   "name": "python3"
  },
  "language_info": {
   "codemirror_mode": {
    "name": "ipython",
    "version": 3
   },
   "file_extension": ".py",
   "mimetype": "text/x-python",
   "name": "python",
   "nbconvert_exporter": "python",
   "pygments_lexer": "ipython3",
   "version": "3.9.9"
  }
 },
 "nbformat": 4,
 "nbformat_minor": 2
}
